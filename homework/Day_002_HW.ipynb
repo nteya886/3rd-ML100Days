{
 "cells": [
  {
   "cell_type": "markdown",
   "metadata": {},
   "source": [
    "## [作業目標]\n",
    "了解機器學習適合應用的領域與範疇。"
   ]
  },
  {
   "cell_type": "markdown",
   "metadata": {},
   "source": [
    "## [作業重點]\n",
    "透過瞭解機器學習的運作方式，找出非常適用機器學習應用的領域及其原因"
   ]
  },
  {
   "cell_type": "markdown",
   "metadata": {},
   "source": [
    "## 作業\n",
    "請找出一個你認為機器學習可以發光發熱的領域並闡述原因? "
   ]
  },
  {
   "cell_type": "markdown",
   "metadata": {},
   "source": [
    " 天氣預報、醫療病徵判斷、股市漲跌、垃圾郵件過濾、\n",
    " 以天氣來舉例，我們可從過去的天氣資料中、找出有下雨的天氣特徵，並在進來一個新的天氣情境資料時能計算下雨的機率，以進行氣象預測。\n",
    "\n",
    "垃圾郵件過濾應用就是，判斷要不要把郵件丟到垃圾桶、股市漲跌，即判斷特定情境下這檔股票會漲會跌、醫療病徵判斷，即判斷有了這些症狀後，患者有得病沒得病…… 各產業領域皆可應用機器學習技術。\n",
    "\n",
    "凡是所有需要被分類、決策、辨識、預測，或是最基本的如重複性工作，機器學習都可以做到。\n",
    "\n",
    "因為\n",
    "機器學習包含透過樣本訓練機器辨識出運作模式，而不是用特定的規則來編程。這些樣本可以在資料中找到。換句話說，機器學習是一種弱人工智慧(narrow AI)，它從資料中得到複雜的函數(或樣本)來學習以創造演算法(或一組規則)，並利用它來做預測。\n",
    "\n",
    "\n",
    "\n",
    "\n",
    "\n",
    "\n",
    "\n"
   ]
  },
  {
   "cell_type": "code",
   "execution_count": null,
   "metadata": {},
   "outputs": [],
   "source": []
  }
 ],
 "metadata": {
  "kernelspec": {
   "display_name": "Python 3",
   "language": "python",
   "name": "python3"
  },
  "language_info": {
   "codemirror_mode": {
    "name": "ipython",
    "version": 3
   },
   "file_extension": ".py",
   "mimetype": "text/x-python",
   "name": "python",
   "nbconvert_exporter": "python",
   "pygments_lexer": "ipython3",
   "version": "3.6.5"
  }
 },
 "nbformat": 4,
 "nbformat_minor": 2
}
